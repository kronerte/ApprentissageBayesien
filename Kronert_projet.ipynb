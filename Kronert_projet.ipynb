{
 "cells": [
  {
   "cell_type": "markdown",
   "metadata": {},
   "source": [
    "# Exercice B"
   ]
  },
  {
   "cell_type": "markdown",
   "metadata": {},
   "source": [
    "Dans ce notebook, nous allons tenter de reconnaître les chiffre sur le data set http://archive.ics.uci.edu/ml/datasets/Optical+Recognition+of+Handwritten+Digits, à l'aide de méthodes pseudo-bayésiennes."
   ]
  },
  {
   "cell_type": "code",
   "execution_count": 1,
   "metadata": {},
   "outputs": [],
   "source": [
    "import numpy as np\n",
    "import matplotlib.pyplot as plt\n",
    "import pandas as pd\n",
    "from ipywidgets import interact\n",
    "from sklearn.model_selection import train_test_split"
   ]
  },
  {
   "cell_type": "markdown",
   "metadata": {},
   "source": [
    "## Etape 1 : Récupérer les données"
   ]
  },
  {
   "cell_type": "markdown",
   "metadata": {},
   "source": [
    "Dans un premier temps importe les données qui nous intéressent avec l'API scikit-learn"
   ]
  },
  {
   "cell_type": "code",
   "execution_count": 2,
   "metadata": {},
   "outputs": [],
   "source": [
    "from sklearn.datasets import load_digits\n",
    "data_raw = load_digits()\n",
    "X = data_raw['data']\n",
    "y = data_raw['target']"
   ]
  },
  {
   "cell_type": "markdown",
   "metadata": {},
   "source": [
    "Inspection du dataset"
   ]
  },
  {
   "cell_type": "code",
   "execution_count": 3,
   "metadata": {},
   "outputs": [
    {
     "data": {
      "application/vnd.jupyter.widget-view+json": {
       "model_id": "869a50b92a364e2f82ef6e4d68e3c218",
       "version_major": 2,
       "version_minor": 0
      },
      "text/plain": [
       "interactive(children=(Dropdown(description='num', options=(0, 1, 2, 3, 4, 5, 6, 7, 8, 9, 10, 11, 12, 13, 14, 1…"
      ]
     },
     "metadata": {},
     "output_type": "display_data"
    }
   ],
   "source": [
    "@interact(num = range(X.shape[0]))\n",
    "def afficher(num):\n",
    "    plt.title(f\"label = {y[num]}\")\n",
    "    return plt.imshow(X[num].reshape((8,8)));"
   ]
  },
  {
   "cell_type": "markdown",
   "metadata": {},
   "source": [
    "## Etape 2 : Stratégie de résolution"
   ]
  },
  {
   "cell_type": "markdown",
   "metadata": {},
   "source": [
    "On va tenter de résoudre ce problème de classification à l'aide de méthodes pseudo-bayésienne.<br>\n",
    "Pour cela on va utiliser un ensemble de classifieurs $\\mathcal{F}$, muni d'une mesure de probabilité noté $\\Pi_{\\lambda}(\\cdot|x)$ et calculée de la façon suivante : \n",
    "$$ \\forall \\Phi \\in \\mathcal{F}, \\Pi_{\\lambda}(\\Phi|x) = K \\exp(-\\lambda R_n(\\Phi))\\Pi(\\Phi)$$\n",
    "où $K$ est une constante de normalisation, $R_n(\\cdot)$ le risque empirique, $Pi(\\cdot)$ la probabilité a priori sur les estimateurs, et $\\lambda$ un hyperparamètre appelé température.<br>\n",
    "L'estimateur mean pseudo-bayésien est alors le suivant : \n",
    "$$\\widehat{\\Phi_\\lambda} = \\mathbb{E}_{\\Phi \\sim \\Pi_{\\lambda}(\\cdot|x)}\\Phi$$\n",
    "Afin de calculer cette espérence, on utilise une méthode de Monte Carlo (avec importance sampling), on a ainsi : \n",
    "$$\\widehat{\\Phi_\\lambda} = \\frac{1}{n}\\sum_{i=1}^n\\phi_i$$ où les $\\phi_i$ sont échantillonés selon la loi \n",
    "$K \\exp(-\\lambda R_n(\\cdot))\\Pi(\\cdot)$"
   ]
  },
  {
   "cell_type": "markdown",
   "metadata": {},
   "source": [
    "Ainsi les déférentes étapes restantes sont : \n",
    "- Définir un ensemble $\\mathcal{F}$ de classifieurs\n",
    "- Définir une fonction loss et donc un risque empirique pour les classifieurs\n",
    "- Définir un probabilité $\\Pi(\\cdot)$ a priori sur $\\mathcal{F}$\n",
    "- Etre capable d'échantillonner selon $K \\exp(-\\lambda R_n(\\cdot))\\Pi(\\cdot)$\n",
    "- Appliquer la méthode de Monte Carlo pour faire des prédictions"
   ]
  },
  {
   "cell_type": "markdown",
   "metadata": {},
   "source": [
    "## Etape 3: Choix de l'espace des classifieurs"
   ]
  },
  {
   "cell_type": "markdown",
   "metadata": {},
   "source": [
    "On décide d'utiliser des forêts aléatoires en temps que classifieurs. Ces classifieurs sont en effet naturellement adaptés à la classification multiclasse et ne sont pas parasités par des features peu informatifs. (a priori pas nécessaire de retravailler les features) De plus ces algorithmes sont plutôt rapide en temps de calcul ce qui est utile en pseudo bayésien."
   ]
  },
  {
   "cell_type": "code",
   "execution_count": 4,
   "metadata": {},
   "outputs": [],
   "source": [
    "from sklearn.ensemble import RandomForestClassifier"
   ]
  },
  {
   "cell_type": "markdown",
   "metadata": {},
   "source": [
    "On va indéxer l'ensemble des algorithmes de de Random Forest par les hyper-paramètres suivants :\n",
    "- nombre d'arbres(n_estimators)\n",
    "- profondeur des arbres(max_depth)\n",
    "- le nombre d'échantillion par noeuds(min_sample_split)<br>\n",
    "\n",
    "Afin de favoriser les classifieurs avec une faible complexité on utilise la loi de probabilité suivante :\n",
    "$$\\Pi(Nb_{estimator}, Max_{depth}, Min_{SampleSplit}) = K\\exp\\left(-\\left(\\frac{Nb_{estimator}}{\\lambda_{Nest}} +  \\frac{Max_{depth}}{\\lambda_{MaxDph}} + \\frac{Min_{SampleSplit}}{\\lambda_{MinSpS}}\\right)\\right)\\mathcal{X}_{[Nb_{estimator}>0,Max_{depth}>0, Min_{SampleSplit}>0 ]}$$"
   ]
  },
  {
   "cell_type": "markdown",
   "metadata": {},
   "source": [
    "Pour le risque empirique, on utilise, la norme l2"
   ]
  },
  {
   "cell_type": "code",
   "execution_count": 5,
   "metadata": {},
   "outputs": [],
   "source": [
    "from sklearn.model_selection import cross_val_score"
   ]
  },
  {
   "cell_type": "code",
   "execution_count": 6,
   "metadata": {
    "scrolled": true
   },
   "outputs": [],
   "source": [
    "def risque_empirique(model, X, y):\n",
    "    return cross_val_score(model, X, y, cv=3).mean()"
   ]
  },
  {
   "cell_type": "markdown",
   "metadata": {},
   "source": [
    "## Etape 4 : Echantillonnage"
   ]
  },
  {
   "cell_type": "markdown",
   "metadata": {},
   "source": [
    "Afin d'échantillonner l'ensemble $\\mathcal{F}$ selon la probabilité $\\Pi(\\cdot|x)$ on utilise un algorithme de type MCMC.<br>\n",
    "Dans notre cas, on va utiliser l'algorithme de Métropolis Hasting.<br>\n"
   ]
  },
  {
   "cell_type": "code",
   "execution_count": 7,
   "metadata": {},
   "outputs": [],
   "source": [
    "# Hyperparamètres\n",
    "Lambda = 10\n",
    "Lambda_Nbest = 100\n",
    "Lambda_Maxdp = 5\n",
    "Lambda_MinSpS = 20"
   ]
  },
  {
   "cell_type": "code",
   "execution_count": 8,
   "metadata": {},
   "outputs": [],
   "source": [
    "# Fonction de probabilité a priori définie plus tôt\n",
    "def f_prior(x):\n",
    "    k,l,m = x\n",
    "    if k <= 1 or l<= 1 or m <= 2:\n",
    "        return 0\n",
    "    return np.exp(-(k/Lambda_Nbest + \n",
    "                    l/Lambda_Maxdp + \n",
    "                    m/Lambda_MinSpS\n",
    "                   ))\n",
    "# pseudo-posterior\n",
    "def f_posterior(x,X_train,y_train):\n",
    "    k,l,m = x\n",
    "    if k <= 1 or l<= 1 or m <= 2:\n",
    "        return 0\n",
    "    model = RandomForestClassifier(n_estimators=int(k), max_depth=int(l), min_samples_split=int(m))\n",
    "    return np.exp(-Lambda*risque_empirique(model, X_train, y_train))*np.exp(-(k/Lambda_Nbest + \n",
    "                    l/Lambda_Maxdp + \n",
    "                    m/Lambda_MinSpS\n",
    "                   ))"
   ]
  },
  {
   "cell_type": "code",
   "execution_count": 9,
   "metadata": {},
   "outputs": [],
   "source": [
    "# densité de probabilité de la loi selon laquelle on sait échantiollonner\n",
    "q_ = lambda invS : lambda X, Mu : np.exp(-1/2*(X-Mu).T.dot(invS).dot(X-Mu))\n",
    "\n",
    "# permet de générer des nombres selon une proba normale de moyenne Mu\n",
    "gen_q_ = lambda s1,s2,s3 : lambda Mu : np.random.randn(3)*np.r_[s1,s2,s3] + Mu\n",
    "\n",
    "\n",
    "# les paramètres de la loi d'échantiollonage (Matrice de covariance de la loi normale) \n",
    "#ont été fixés de façon à accélérer la vitesse de convergence de la Métropolis Hasting\n",
    "invS = np.diag([0.25, 1, 1])\n",
    "q = q_(invS)\n",
    "gen_q = gen_q_(16, 1,1)"
   ]
  },
  {
   "cell_type": "code",
   "execution_count": 10,
   "metadata": {},
   "outputs": [
    {
     "name": "stdout",
     "output_type": "stream",
     "text": [
      "avancée 99.00%\r"
     ]
    }
   ],
   "source": [
    "classifieurs = []\n",
    "n = 10000\n",
    "x0 = np.r_[2, 2, 3]\n",
    "x_old = x0\n",
    "Xlist = [x_old]\n",
    "for i in range(n):\n",
    "    if i%100==0:\n",
    "        print(f\"avancée {i/n*100:.2f}%\", flush=True, end='\\r')\n",
    "    # candidat généré\n",
    "    z = gen_q(x_old)\n",
    "    rho = np.random.random()\n",
    "    # test de rejet\n",
    "    if rho < f_prior(z)/f_prior(x_old):\n",
    "        x_old = z\n",
    "    Xlist.append(x_old)"
   ]
  },
  {
   "cell_type": "code",
   "execution_count": 11,
   "metadata": {},
   "outputs": [
    {
     "data": {
      "text/plain": [
       "10.3244722353441"
      ]
     },
     "execution_count": 11,
     "metadata": {},
     "output_type": "execute_result"
    },
    {
     "data": {
      "image/png": "[encoded data removed]",
      "text/plain": [
       "<Figure size 432x288 with 1 Axes>"
      ]
     },
     "metadata": {
      "needs_background": "light"
     },
     "output_type": "display_data"
    }
   ],
   "source": [
    "plt.hist(np.r_[Xlist][100:,2]);\n",
    "np.r_[Xlist][100:,2].mean()"
   ]
  },
  {
   "cell_type": "markdown",
   "metadata": {},
   "source": [
    "### Echantillionnage de l'espace des classifieurs"
   ]
  },
  {
   "cell_type": "code",
   "execution_count": 12,
   "metadata": {},
   "outputs": [],
   "source": [
    "X_train, X_test, y_train, y_test = train_test_split(X, y, test_size=0.2, random_state=42)"
   ]
  },
  {
   "cell_type": "code",
   "execution_count": 13,
   "metadata": {},
   "outputs": [
    {
     "name": "stdout",
     "output_type": "stream",
     "text": [
      "avancée 90.00%\r"
     ]
    }
   ],
   "source": [
    "classifieurs = []\n",
    "n = 1000\n",
    "x0 = np.r_[2, 2, 3]\n",
    "Lambda = 2\n",
    "x_old = x0\n",
    "Xlist = [x_old]\n",
    "for i in range(n):\n",
    "    if i%100==0:\n",
    "        print(f\"avancée {i/n*100:.2f}%\", flush=True, end='\\r')\n",
    "    # candidat généré\n",
    "    z = gen_q(x_old)\n",
    "    rho = np.random.random()\n",
    "    # test de rejet\n",
    "    if rho < f_posterior(z,X_train,y_train)/f_posterior(x_old,X_train,y_train):\n",
    "        x_old = z\n",
    "        \n",
    "    k,l,m = x_old\n",
    "    # on ajoute le classifieur à la liste des classifieurs générés\n",
    "    clf = RandomForestClassifier(n_estimators=int(k), max_depth=int(l), min_samples_split=int(m))\n",
    "    clf.fit(X_train, y_train)\n",
    "    classifieurs.append(clf)\n",
    "    Xlist.append(x_old)"
   ]
  },
  {
   "cell_type": "code",
   "execution_count": 14,
   "metadata": {},
   "outputs": [
    {
     "data": {
      "image/png": "[encoded data removed]",
      "text/plain": [
       "<Figure size 432x288 with 1 Axes>"
      ]
     },
     "metadata": {
      "needs_background": "light"
     },
     "output_type": "display_data"
    }
   ],
   "source": [
    "plt.hist(np.r_[Xlist][100:,0]);"
   ]
  },
  {
   "cell_type": "markdown",
   "metadata": {},
   "source": [
    "### Evaluation des performances"
   ]
  },
  {
   "cell_type": "code",
   "execution_count": 15,
   "metadata": {
    "scrolled": true
   },
   "outputs": [],
   "source": [
    "from scipy import stats"
   ]
  },
  {
   "cell_type": "code",
   "execution_count": 16,
   "metadata": {},
   "outputs": [],
   "source": [
    "def predict(classifieurs, X):\n",
    "    ### Retourne une liste des prédictions des différents classifieurs\n",
    "    return stats.mode(list(map(lambda x : x.predict(X),classifieurs)),axis = 0)[0]"
   ]
  },
  {
   "cell_type": "code",
   "execution_count": 28,
   "metadata": {},
   "outputs": [
    {
     "data": {
      "text/plain": [
       "0.9111111111111111"
      ]
     },
     "execution_count": 28,
     "metadata": {},
     "output_type": "execute_result"
    }
   ],
   "source": [
    "### Calcul de la précision de l'estimateur MAP (vote majoritaire sur les classifieurs échantillonnés)\n",
    "(predict(classifieurs,X_test) ==y_test).mean()"
   ]
  },
  {
   "cell_type": "code",
   "execution_count": 29,
   "metadata": {},
   "outputs": [
    {
     "data": {
      "text/plain": [
       "0.9138888888888889"
      ]
     },
     "execution_count": 29,
     "metadata": {},
     "output_type": "execute_result"
    }
   ],
   "source": [
    "### Même chose avec un burning de 100\n",
    "(predict(classifieurs[100:],X_test) ==y_test).mean()"
   ]
  },
  {
   "cell_type": "code",
   "execution_count": 35,
   "metadata": {},
   "outputs": [
    {
     "data": {
      "text/plain": [
       "0.9611111111111111"
      ]
     },
     "execution_count": 35,
     "metadata": {},
     "output_type": "execute_result"
    }
   ],
   "source": [
    "### ... de 500\n",
    "(predict(classifieurs[500:],X_test) ==y_test).mean()"
   ]
  },
  {
   "cell_type": "markdown",
   "metadata": {},
   "source": [
    "Comme attendu, avant d'atteindre la convergence les performances de la classification sont moins bonnes"
   ]
  },
  {
   "cell_type": "markdown",
   "metadata": {},
   "source": [
    "## Comparaison avec une approche classique"
   ]
  },
  {
   "cell_type": "markdown",
   "metadata": {},
   "source": [
    "On compare les performances avec celles d'un Random Forest dont on a optimisé les hyperparamètres avec une méthode de grid search classique."
   ]
  },
  {
   "cell_type": "code",
   "execution_count": 18,
   "metadata": {},
   "outputs": [],
   "source": [
    "from sklearn.model_selection import GridSearchCV"
   ]
  },
  {
   "cell_type": "code",
   "execution_count": 19,
   "metadata": {},
   "outputs": [],
   "source": [
    "param_grid = {'n_estimators' :[1,10,100],\n",
    "             'max_depth' :[1,2,3,5,10,20],\n",
    "             'min_samples_split' :[5,10,50]}\n",
    "grid_search = GridSearchCV(RandomForestClassifier(),param_grid = param_grid)"
   ]
  },
  {
   "cell_type": "code",
   "execution_count": 20,
   "metadata": {},
   "outputs": [
    {
     "name": "stderr",
     "output_type": "stream",
     "text": [
      "/home/kronert/anaconda3/lib/python3.6/site-packages/sklearn/model_selection/_split.py:2053: FutureWarning: You should specify a value for 'cv' instead of relying on the default value. The default value will change from 3 to 5 in version 0.22.\n",
      "  warnings.warn(CV_WARNING, FutureWarning)\n",
      "/home/kronert/anaconda3/lib/python3.6/site-packages/sklearn/model_selection/_search.py:841: DeprecationWarning: The default of the `iid` parameter will change from True to False in version 0.22 and will be removed in 0.24. This will change numeric results when test-set sizes are unequal.\n",
      "  DeprecationWarning)\n"
     ]
    },
    {
     "data": {
      "text/plain": [
       "GridSearchCV(cv='warn', error_score='raise-deprecating',\n",
       "       estimator=RandomForestClassifier(bootstrap=True, class_weight=None, criterion='gini',\n",
       "            max_depth=None, max_features='auto', max_leaf_nodes=None,\n",
       "            min_impurity_decrease=0.0, min_impurity_split=None,\n",
       "            min_samples_leaf=1, min_samples_split=2,\n",
       "            min_weight_fraction_leaf=0.0, n_estimators='warn', n_jobs=None,\n",
       "            oob_score=False, random_state=None, verbose=0,\n",
       "            warm_start=False),\n",
       "       fit_params=None, iid='warn', n_jobs=None,\n",
       "       param_grid={'n_estimators': [1, 10, 100], 'max_depth': [1, 2, 3, 5, 10, 20], 'min_samples_split': [5, 10, 50]},\n",
       "       pre_dispatch='2*n_jobs', refit=True, return_train_score='warn',\n",
       "       scoring=None, verbose=0)"
      ]
     },
     "execution_count": 20,
     "metadata": {},
     "output_type": "execute_result"
    }
   ],
   "source": [
    "grid_search.fit(X_train, y_train)"
   ]
  },
  {
   "cell_type": "code",
   "execution_count": 21,
   "metadata": {},
   "outputs": [
    {
     "data": {
      "text/plain": [
       "0.9722222222222222"
      ]
     },
     "execution_count": 21,
     "metadata": {},
     "output_type": "execute_result"
    }
   ],
   "source": [
    "grid_search.score(X_test, y_test)"
   ]
  },
  {
   "cell_type": "code",
   "execution_count": 22,
   "metadata": {},
   "outputs": [
    {
     "data": {
      "text/plain": [
       "{'max_depth': 10, 'min_samples_split': 5, 'n_estimators': 100}"
      ]
     },
     "execution_count": 22,
     "metadata": {},
     "output_type": "execute_result"
    }
   ],
   "source": [
    "grid_search.best_params_"
   ]
  },
  {
   "cell_type": "markdown",
   "metadata": {},
   "source": [
    "On remarque que la méthode de classique donne de meilleurs résultats sur le test-set.<br>\n",
    "Cela peut s'expliquer par le fait que l'algorithme de Métropolis-Hasting n'a pas vraiment eu le temps de converger. (temps de calcul trop long). Ou alors les choix de loi de probabilité a priori et les différents hyperparamètres n'étaient pas optimaux (par exemple la température)."
   ]
  },
  {
   "cell_type": "code",
   "execution_count": 36,
   "metadata": {},
   "outputs": [
    {
     "data": {
      "text/plain": [
       "(360,)"
      ]
     },
     "execution_count": 36,
     "metadata": {},
     "output_type": "execute_result"
    }
   ],
   "source": []
  },
  {
   "cell_type": "code",
   "execution_count": null,
   "metadata": {},
   "outputs": [],
   "source": []
  }
 ],
 "metadata": {
  "kernelspec": {
   "display_name": "Python 3",
   "language": "python",
   "name": "python3"
  },
  "language_info": {
   "codemirror_mode": {
    "name": "ipython",
    "version": 3
   },
   "file_extension": ".py",
   "mimetype": "text/x-python",
   "name": "python",
   "nbconvert_exporter": "python",
   "pygments_lexer": "ipython3",
   "version": "3.6.8"
  }
 },
 "nbformat": 4,
 "nbformat_minor": 2
}
